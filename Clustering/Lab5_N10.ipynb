{
 "cells": [
  {
   "cell_type": "code",
   "execution_count": null,
   "metadata": {},
   "outputs": [],
   "source": [
    "# Устанавливаем библиотеку, в процессе выполнения лабораторной работы она нам будет необходима.\n",
    "!pip install kneed"
   ]
  },
  {
   "cell_type": "markdown",
   "metadata": {},
   "source": [
    "## Лабораторная работа №5\n",
    "\n",
    "$\\textit{Выполнил: Новицкий Никита}$\n",
    "\n",
    "$\\textit{Группа: 6132-010402D}$"
   ]
  },
  {
   "cell_type": "markdown",
   "metadata": {},
   "source": [
    "## Задание \n",
    "\n",
    "Выполните кластеризацию данных вашего варианта с использованием K-Means и его \"мягкой\" версии. Найдите количество кластеров, которое дает наибольшую чистоту, используйте различные показатели расстояния: евклидово расстояние, манхэттенское расстояние, расстояние Чебышева. Постройте графики значений чистоты и DBI в зависимости от \"K\" (количества кластеров) для каждой из метрик расстояния."
   ]
  },
  {
   "cell_type": "markdown",
   "metadata": {},
   "source": [
    "## Импортируем необходимые библиотеки для реализации лабораторной работы"
   ]
  },
  {
   "cell_type": "code",
   "execution_count": 1,
   "metadata": {
    "id": "CwpNzdZreUXn"
   },
   "outputs": [],
   "source": [
    "import warnings\n",
    "\n",
    "import matplotlib.pyplot as plt\n",
    "import numpy as np\n",
    "import pandas as pd\n",
    "from kneed import KneeLocator\n",
    "from scipy.spatial.distance import euclidean\n",
    "from sklearn.utils import shuffle\n",
    "from tqdm.notebook import tqdm\n",
    "\n",
    "warnings.filterwarnings(\"ignore\")"
   ]
  },
  {
   "cell_type": "code",
   "execution_count": 2,
   "metadata": {},
   "outputs": [],
   "source": [
    "def create_data(npy):\n",
    "    \"\"\"\n",
    "    Данная функция создаст нам dataframe, который\n",
    "    будет использоваться для кластеризации с помощью K-Means/Soft K-Means\n",
    "    \"\"\"\n",
    "    X, Y, Z = [], [], []\n",
    "    for z in range(npy.shape[0]):\n",
    "        for y in range(npy.shape[1]):\n",
    "            for x in range(npy.shape[2]):\n",
    "                X.append(x)\n",
    "                Y.append(y)\n",
    "                Z.append(z)\n",
    "    return pd.DataFrame({'X': X, 'Y': Y, 'Z': Z})"
   ]
  },
  {
   "cell_type": "code",
   "execution_count": 3,
   "metadata": {},
   "outputs": [
    {
     "name": "stdout",
     "output_type": "stream",
     "text": [
      "Размерность данных: (512, 512, 237)\n",
      "CPU times: user 783 µs, sys: 16.1 ms, total: 16.9 ms\n",
      "Wall time: 18 ms\n"
     ]
    }
   ],
   "source": [
    "%%time\n",
    "npy = np.load(\"/Users/nvnovitskiy/Downloads/10.npy\")\n",
    "print(f\"Размерность данных: {npy.shape}\")"
   ]
  },
  {
   "cell_type": "code",
   "execution_count": 4,
   "metadata": {},
   "outputs": [
    {
     "name": "stdout",
     "output_type": "stream",
     "text": [
      "Размерность данных после создания DataFrame: (62128128, 3)\n",
      "CPU times: user 37.6 s, sys: 2.75 s, total: 40.4 s\n",
      "Wall time: 40.4 s\n"
     ]
    }
   ],
   "source": [
    "%%time\n",
    "df = create_data(npy)\n",
    "print(f\"Размерность данных после создания DataFrame: {df.shape}\")"
   ]
  },
  {
   "cell_type": "code",
   "execution_count": 5,
   "metadata": {
    "scrolled": true
   },
   "outputs": [
    {
     "data": {
      "text/html": [
       "<div>\n",
       "<style scoped>\n",
       "    .dataframe tbody tr th:only-of-type {\n",
       "        vertical-align: middle;\n",
       "    }\n",
       "\n",
       "    .dataframe tbody tr th {\n",
       "        vertical-align: top;\n",
       "    }\n",
       "\n",
       "    .dataframe thead th {\n",
       "        text-align: right;\n",
       "    }\n",
       "</style>\n",
       "<table border=\"1\" class=\"dataframe\">\n",
       "  <thead>\n",
       "    <tr style=\"text-align: right;\">\n",
       "      <th></th>\n",
       "      <th>X</th>\n",
       "      <th>Y</th>\n",
       "      <th>Z</th>\n",
       "    </tr>\n",
       "  </thead>\n",
       "  <tbody>\n",
       "    <tr>\n",
       "      <th>0</th>\n",
       "      <td>0</td>\n",
       "      <td>0</td>\n",
       "      <td>0</td>\n",
       "    </tr>\n",
       "    <tr>\n",
       "      <th>1</th>\n",
       "      <td>1</td>\n",
       "      <td>0</td>\n",
       "      <td>0</td>\n",
       "    </tr>\n",
       "    <tr>\n",
       "      <th>2</th>\n",
       "      <td>2</td>\n",
       "      <td>0</td>\n",
       "      <td>0</td>\n",
       "    </tr>\n",
       "    <tr>\n",
       "      <th>3</th>\n",
       "      <td>3</td>\n",
       "      <td>0</td>\n",
       "      <td>0</td>\n",
       "    </tr>\n",
       "    <tr>\n",
       "      <th>4</th>\n",
       "      <td>4</td>\n",
       "      <td>0</td>\n",
       "      <td>0</td>\n",
       "    </tr>\n",
       "  </tbody>\n",
       "</table>\n",
       "</div>"
      ],
      "text/plain": [
       "   X  Y  Z\n",
       "0  0  0  0\n",
       "1  1  0  0\n",
       "2  2  0  0\n",
       "3  3  0  0\n",
       "4  4  0  0"
      ]
     },
     "execution_count": 5,
     "metadata": {},
     "output_type": "execute_result"
    }
   ],
   "source": [
    "df.head()"
   ]
  },
  {
   "cell_type": "markdown",
   "metadata": {},
   "source": [
    "Так как в данных нет лейблов, то в рамках лабораторной работы я буду использовать только внутреннюю метрику, а то есть  индекс Дэвиса–Болдина. Относительно его значения и будет выбираться оптимальное количество кластеров, стоит отметить, что на такой выборке (62128128) вычисления довольно трудозатратны и по времени, и по RAM (нужен компьютер минимум с 16 GB RAM ), поэтому я взял 1/62 часть выборки для кластеризации, чтобы не ждать $\\infty$."
   ]
  },
  {
   "cell_type": "code",
   "execution_count": 6,
   "metadata": {},
   "outputs": [],
   "source": [
    "X = shuffle(df[:1128128].to_numpy())"
   ]
  },
  {
   "cell_type": "code",
   "execution_count": 7,
   "metadata": {},
   "outputs": [
    {
     "data": {
      "text/plain": [
       "array([[ 37,  49,   2],\n",
       "       [ 94, 101,   5],\n",
       "       [109, 364,   7],\n",
       "       [ 47,   9,   5],\n",
       "       [101, 241,   2]])"
      ]
     },
     "execution_count": 7,
     "metadata": {},
     "output_type": "execute_result"
    }
   ],
   "source": [
    "X[:5]"
   ]
  },
  {
   "cell_type": "code",
   "execution_count": 8,
   "metadata": {},
   "outputs": [],
   "source": [
    "def cluster_resp(distances):\n",
    "    \"\"\"\n",
    "    Функция для вычисления значения принадлежности точек кластерам.\n",
    "    \n",
    "    Чем больше расстояние до кластер \"к\" - тем менее важна данная точка для кластера \"к\"\n",
    "    Обратите внимание, данная функция очень похожа на функцию \"softmax\"\n",
    "    \"\"\"\n",
    "    d_exp = np.exp(-distances)\n",
    "    return d_exp / np.sum(d_exp, axis=1, keepdims=True)"
   ]
  },
  {
   "cell_type": "code",
   "execution_count": 9,
   "metadata": {
    "id": "FubufEE_eUXv"
   },
   "outputs": [],
   "source": [
    "def loss(X, M, R, dist_type):\n",
    "    \"\"\"\n",
    "    Другой способ измерения качества результатов кластеризации\n",
    "    Постарайтесь самостоятельно понять значение этой функции\n",
    "    Эта метрика может быть использована в качестве критерия остановки алгоритма\n",
    "    \"\"\"\n",
    "    loss = 0\n",
    "    for k in range(len(M)):\n",
    "        d = dist(X, M[k],dist_type)\n",
    "        loss += np.sum(R[:, k] * d * d)\n",
    "    return loss"
   ]
  },
  {
   "cell_type": "code",
   "execution_count": 10,
   "metadata": {
    "id": "hyqcfSyaeUXw"
   },
   "outputs": [],
   "source": [
    "def dist(x, y, dist_type):\n",
    "    \"\"\"\n",
    "    Данная функция служит для выбора определенной distance метрики.\n",
    "    \"\"\"\n",
    "    if dist_type == \"euclidian\":\n",
    "        diff = x - y\n",
    "        dist = np.sqrt(np.sum(diff * diff, axis=-1))\n",
    "    if dist_type == \"manhattan\":\n",
    "        diff = x - y\n",
    "        dist = np.sum(np.abs(diff), axis=-1)\n",
    "    if dist_type == \"chebyshev\":\n",
    "        diff = x - y\n",
    "        dist = np.max(np.abs(diff), axis=-1)\n",
    "    return dist"
   ]
  },
  {
   "cell_type": "markdown",
   "metadata": {},
   "source": [
    "K-Means - это классический алгоритм кластеризации. Где `K` - количество класстеров и `means` означает что центр кластера - это центральная точка кластера. Далее перечислим шаги алгоритма:\n",
    "\n",
    "1. Случайным образом инициализировать `K` центров кластеров.\n",
    "2. Кластеризуем (разметим) данные согласно текущим кластерам.\n",
    "3. Пересчитаем центры кластеров.\n",
    "4. Повторять шаги 2 и 3 пока алгоритм не сойдется. \n",
    "\n",
    "Алгоритм сошелся если центры кластеров не изменились.\n"
   ]
  },
  {
   "cell_type": "code",
   "execution_count": 11,
   "metadata": {},
   "outputs": [],
   "source": [
    "def k_means(X, K, max_iter=15, max_attempts=10, dist_type = \"euclidian\"):\n",
    "    N, D = X.shape\n",
    "    L = np.zeros(N)\n",
    "    M = np.zeros((K, D))\n",
    "    \n",
    "    for at in range(max_attempts):\n",
    "        for k in range(K):\n",
    "            M[k] = X[np.random.choice(N)]\n",
    "\n",
    "        for i in range(max_iter):\n",
    "            dists = []\n",
    "            for k in range(K):\n",
    "                dists += [dist(X, M[k], dist_type).reshape(-1, 1)]\n",
    "            dists = np.hstack(dists)\n",
    "            L = np.argmin(dists, axis=1)\n",
    "\n",
    "            for k in range(K):\n",
    "                M[k] = X[L==k].mean(axis=0)\n",
    "\n",
    "        if(len(np.unique(L))) == K:\n",
    "                break            \n",
    "        if i == (max_attempts-1):\n",
    "            print(\"max_attempts achived, try take another K\")\n",
    "            print(\"Current K\", len(np.unique(L)))\n",
    "    \n",
    "    return M, L"
   ]
  },
  {
   "cell_type": "markdown",
   "metadata": {
    "id": "pov4LWm7eUXx"
   },
   "source": [
    "Soft K-Means это модификация классического K-Means, которая позволяет оценить вероятность того, что точка принадлежит какому-то кластеру. Этот алгоритм также называется \"нечеткой кластеризацией\".\n",
    "\n",
    "1. Случайным образом инициализировать `K` центров кластеров.\n",
    "2. Вычислим значения принадлоежности точек кластерам. \n",
    "3. Пересчитаем центры кластеров в соответствии со значениями принадлежности кластерам.\n",
    "4. Повторять шаги 2, 3 до схождения алгоритма. \n",
    "\n",
    "Алгоритм сошелся если центры кластеров не изменились (или изменились незначительно)"
   ]
  },
  {
   "cell_type": "code",
   "execution_count": 12,
   "metadata": {
    "id": "97T9BI_7eUXx"
   },
   "outputs": [],
   "source": [
    "def soft_k_means(X, K, dist_type = \"euclidian\", max_iter=15):\n",
    "    N, D = X.shape\n",
    "    R = np.zeros((N, K))\n",
    "    M = np.zeros((K, D))\n",
    "    losses = []\n",
    "\n",
    "    for k in range(K):\n",
    "        M[k] = X[np.random.choice(N)]\n",
    "\n",
    "    for i in range(max_iter):\n",
    "        dists = []\n",
    "        \n",
    "        for m in range(K):\n",
    "            dists += [dist(X, M[m], dist_type).reshape(-1, 1)]\n",
    "        dists = np.hstack(dists)\n",
    "        R = cluster_resp(dists)\n",
    "\n",
    "        for k in range(K):\n",
    "            M[k] = R[:, k].dot(X) / R[:, k].sum()\n",
    "        losses.append(loss(X, M, R,dist_type))\n",
    "        \n",
    "    return M, R, losses"
   ]
  },
  {
   "cell_type": "code",
   "execution_count": 13,
   "metadata": {
    "id": "9zgexeTneUXy"
   },
   "outputs": [],
   "source": [
    "def metrics_davies_bouldin(X, cluster_labels, distance=euclidean):\n",
    "    n_cluster = len(np.bincount(cluster_labels))\n",
    "    cluster_k = [X[cluster_labels == k] for k in range(n_cluster)]\n",
    "    centroids = [np.mean(k, axis = 0) for k in cluster_k]\n",
    "    variances = [np.mean([distance(p, centroids[i]) for p in k]) for i, k in enumerate(cluster_k)]\n",
    "    db = []\n",
    "    \n",
    "    for i in range(n_cluster):\n",
    "        for j in range(n_cluster):\n",
    "            if (j != i) and (~np.isnan(centroids[i]).any() and ~np.isnan(centroids[j]).any()): \n",
    "                db.append((variances[i] + variances[j]) / distance(centroids[i],centroids[j]))\n",
    "\n",
    "    return(np.max(db)/n_cluster)"
   ]
  },
  {
   "cell_type": "markdown",
   "metadata": {
    "id": "JDq27YfbeUXy"
   },
   "source": [
    "## Расчет метрик и нахождение оптимального значения K (K-Means)"
   ]
  },
  {
   "cell_type": "code",
   "execution_count": 14,
   "metadata": {
    "id": "Ik-Qh8eheUXy"
   },
   "outputs": [],
   "source": [
    "start = 2 \n",
    "stop = 30\n",
    "euclidian_arr=np.zeros((stop, start))\n",
    "manhattan_arr=np.zeros((stop, start))\n",
    "chebyshev_arr=np.zeros((stop, start))"
   ]
  },
  {
   "cell_type": "code",
   "execution_count": 15,
   "metadata": {},
   "outputs": [
    {
     "data": {
      "application/vnd.jupyter.widget-view+json": {
       "model_id": "42d77d8d754e4752abde3c6bd5ff59f5",
       "version_major": 2,
       "version_minor": 0
      },
      "text/plain": [
       "  0%|          | 0/28 [00:00<?, ?it/s]"
      ]
     },
     "metadata": {},
     "output_type": "display_data"
    },
    {
     "name": "stdout",
     "output_type": "stream",
     "text": [
      "Евклидова метрика рассчитана.\n"
     ]
    }
   ],
   "source": [
    "for i in tqdm(range(start, stop)):\n",
    "    M, L = k_means(X, K=i, dist_type=\"euclidian\")\n",
    "    euclidian_arr[i] = i, metrics_davies_bouldin(X, L)\n",
    "\n",
    "print(\"Евклидова метрика рассчитана.\")"
   ]
  },
  {
   "cell_type": "code",
   "execution_count": 17,
   "metadata": {},
   "outputs": [
    {
     "data": {
      "application/vnd.jupyter.widget-view+json": {
       "model_id": "ec2c9403d9db403687299ef73c77be41",
       "version_major": 2,
       "version_minor": 0
      },
      "text/plain": [
       "  0%|          | 0/28 [00:00<?, ?it/s]"
      ]
     },
     "metadata": {},
     "output_type": "display_data"
    },
    {
     "name": "stdout",
     "output_type": "stream",
     "text": [
      "Манхэттенская метрика рассчитана.\n"
     ]
    }
   ],
   "source": [
    "for i in tqdm(range(start, stop)):\n",
    "    M, L = k_means(X, K = i, dist_type=\"manhattan\")\n",
    "    manhattan_arr[i] = i, metrics_davies_bouldin(X, L)  \n",
    "\n",
    "print(\"Манхэттенская метрика рассчитана.\")"
   ]
  },
  {
   "cell_type": "code",
   "execution_count": 19,
   "metadata": {},
   "outputs": [
    {
     "data": {
      "application/vnd.jupyter.widget-view+json": {
       "model_id": "880317249b994e5ca5d4a8193dc49f5b",
       "version_major": 2,
       "version_minor": 0
      },
      "text/plain": [
       "  0%|          | 0/28 [00:00<?, ?it/s]"
      ]
     },
     "metadata": {},
     "output_type": "display_data"
    },
    {
     "name": "stdout",
     "output_type": "stream",
     "text": [
      "Чебышевская метрика рассчитана.\n"
     ]
    }
   ],
   "source": [
    "for i in tqdm(range(start, stop)):\n",
    "    M, L = k_means(X, K=i, dist_type=\"chebyshev\")\n",
    "    chebyshev_arr[i] = i, metrics_davies_bouldin(X, L) \n",
    "\n",
    "print(\"Чебышевская метрика рассчитана.\")"
   ]
  },
  {
   "cell_type": "markdown",
   "metadata": {},
   "source": [
    "## Чтобы найти оптимальное K для каждой метрики, мы воспользуемся библиотекой kneed."
   ]
  },
  {
   "cell_type": "markdown",
   "metadata": {},
   "source": [
    "Репозиторий библиотеки на [github](https://github.com/arvkevi/kneed)"
   ]
  },
  {
   "cell_type": "code",
   "execution_count": 16,
   "metadata": {},
   "outputs": [
    {
     "name": "stdout",
     "output_type": "stream",
     "text": [
      "Оптимальное значение K для Евклидовой метрики: 5.0\n"
     ]
    }
   ],
   "source": [
    "optimum_k_euclid = KneeLocator(\n",
    "    euclidian_arr[start:, 0], \n",
    "    euclidian_arr[start:, 1], \n",
    "    curve='convex', \n",
    "    direction='decreasing'\n",
    ").knee\n",
    "\n",
    "print(f\"Оптимальное значение K для Евклидовой метрики: {optimum_k_euclid}\")"
   ]
  },
  {
   "cell_type": "code",
   "execution_count": 18,
   "metadata": {},
   "outputs": [
    {
     "name": "stdout",
     "output_type": "stream",
     "text": [
      "Оптимальное значение K для Манхэттенской метрики: 7.0\n"
     ]
    }
   ],
   "source": [
    "optimum_k_manhattan = KneeLocator(\n",
    "    manhattan_arr[start:, 0], \n",
    "    manhattan_arr[start:, 1], \n",
    "    curve='convex', \n",
    "    direction='decreasing'\n",
    ").knee\n",
    "\n",
    "print(f\"Оптимальное значение K для Манхэттенской метрики: {optimum_k_manhattan}\")"
   ]
  },
  {
   "cell_type": "code",
   "execution_count": 21,
   "metadata": {},
   "outputs": [
    {
     "name": "stdout",
     "output_type": "stream",
     "text": [
      "Оптимальное значение K для Чебышевской метрики: 8.0\n"
     ]
    }
   ],
   "source": [
    "optimum_k_chebyshev = KneeLocator(\n",
    "    chebyshev_arr[start:,0], \n",
    "    chebyshev_arr[start:,1], \n",
    "    curve='convex', \n",
    "    direction='decreasing'\n",
    ").knee\n",
    "\n",
    "print(f\"Оптимальное значение K для Чебышевской метрики: {optimum_k_chebyshev}\")"
   ]
  },
  {
   "cell_type": "markdown",
   "metadata": {},
   "source": [
    "## Визуализация метрик (K-Means)"
   ]
  },
  {
   "cell_type": "code",
   "execution_count": 25,
   "metadata": {
    "colab": {
     "base_uri": "https://localhost:8080/",
     "height": 826
    },
    "id": "rQzFDaokeUX0",
    "outputId": "ad4e87dc-55af-40eb-ee98-7bcd2ebf8156",
    "scrolled": false
   },
   "outputs": [
    {
     "data": {
      "image/png": "[encoded data removed]",
      "text/plain": [
       "<Figure size 400x800 with 3 Axes>"
      ]
     },
     "metadata": {
      "needs_background": "light"
     },
     "output_type": "display_data"
    }
   ],
   "source": [
    "all_metrics = np.concatenate((euclidian_arr, manhattan_arr, chebyshev_arr), axis=1)\n",
    "all_metrics = all_metrics[:, (0, 1, 3, 5)]\n",
    "metric_names = [\"Евклидова метрика\",\"Манхэттенская метрика\",\"Чебышевская метрика\"]\n",
    "fig, ax = plt.subplots(3, 1, constrained_layout=True, figsize=(5, 10), dpi=80)\n",
    "\n",
    "for x in range(3):\n",
    "    ax[x].plot(all_metrics[start:, 0], all_metrics[start:, x + 1], color=\"red\")\n",
    "    ax[x].set_title(metric_names[x])\n",
    "    ax[x].set_xlabel(\"Значение K\")\n",
    "    ax[x].set_ylabel(\"Индекс Дэвиса-Болдина\")"
   ]
  },
  {
   "cell_type": "markdown",
   "metadata": {
    "id": "u6kHwtlmeUX9"
   },
   "source": [
    "## Расчет метрик и нахождение оптимального значения K (Soft K-Means)"
   ]
  },
  {
   "cell_type": "code",
   "execution_count": 26,
   "metadata": {
    "id": "md1BwiLMeUX9"
   },
   "outputs": [],
   "source": [
    "start = 2 \n",
    "stop = 30\n",
    "euclidian_soft_arr=np.zeros((stop, start))\n",
    "manhattan_soft_arr=np.zeros((stop, start))\n",
    "chebyshev_soft_arr=np.zeros((stop, start))"
   ]
  },
  {
   "cell_type": "code",
   "execution_count": 27,
   "metadata": {},
   "outputs": [
    {
     "data": {
      "application/vnd.jupyter.widget-view+json": {
       "model_id": "aeea5652428e4acfbff3060634f56d85",
       "version_major": 2,
       "version_minor": 0
      },
      "text/plain": [
       "  0%|          | 0/28 [00:00<?, ?it/s]"
      ]
     },
     "metadata": {},
     "output_type": "display_data"
    },
    {
     "name": "stdout",
     "output_type": "stream",
     "text": [
      "Евклидова метрика рассчитана.\n"
     ]
    }
   ],
   "source": [
    "for i in tqdm(range(start, stop)):\n",
    "    M, R ,l = soft_k_means(X, K=i, dist_type = \"euclidian\")\n",
    "    L_soft = np.argmax(R, axis=1)\n",
    "    euclidian_soft_arr[i] = i, metrics_davies_bouldin(X, L_soft)\n",
    "\n",
    "print(\"Евклидова метрика рассчитана.\")"
   ]
  },
  {
   "cell_type": "code",
   "execution_count": 29,
   "metadata": {},
   "outputs": [
    {
     "data": {
      "application/vnd.jupyter.widget-view+json": {
       "model_id": "9a793a04693842eb874044073521621a",
       "version_major": 2,
       "version_minor": 0
      },
      "text/plain": [
       "  0%|          | 0/28 [00:00<?, ?it/s]"
      ]
     },
     "metadata": {},
     "output_type": "display_data"
    },
    {
     "name": "stdout",
     "output_type": "stream",
     "text": [
      "Манхэттенская метрика рассчитана.\n"
     ]
    }
   ],
   "source": [
    "for i in tqdm(range(start, stop)):\n",
    "    M, R ,l = soft_k_means(X, K = i, dist_type = \"manhattan\")\n",
    "    L_soft = np.argmax(R, axis=1)\n",
    "    manhattan_soft_arr[i] = i, metrics_davies_bouldin(X, L_soft)  \n",
    "    \n",
    "print(\"Манхэттенская метрика рассчитана.\")"
   ]
  },
  {
   "cell_type": "code",
   "execution_count": 31,
   "metadata": {},
   "outputs": [
    {
     "data": {
      "application/vnd.jupyter.widget-view+json": {
       "model_id": "d32e0f02945b484e892831f6b48cc830",
       "version_major": 2,
       "version_minor": 0
      },
      "text/plain": [
       "  0%|          | 0/28 [00:00<?, ?it/s]"
      ]
     },
     "metadata": {},
     "output_type": "display_data"
    },
    {
     "name": "stdout",
     "output_type": "stream",
     "text": [
      "Чебышевская метрика рассчитана.\n"
     ]
    }
   ],
   "source": [
    "for i in tqdm(range(start, stop)):\n",
    "    M, R, l = soft_k_means(X, K=i, dist_type = \"chebyshev\")\n",
    "    L_soft = np.argmax(R, axis=1)\n",
    "    chebyshev_soft_arr[i] = i, metrics_davies_bouldin(X, L_soft) \n",
    "    \n",
    "print(\"Чебышевская метрика рассчитана.\")"
   ]
  },
  {
   "cell_type": "markdown",
   "metadata": {},
   "source": [
    "## Чтобы найти оптимальное K для каждой метрики, мы воспользуемся библиотекой kneed."
   ]
  },
  {
   "cell_type": "markdown",
   "metadata": {},
   "source": [
    "Репозиторий библиотеки на [github](https://github.com/arvkevi/kneed)"
   ]
  },
  {
   "cell_type": "code",
   "execution_count": 28,
   "metadata": {},
   "outputs": [
    {
     "name": "stdout",
     "output_type": "stream",
     "text": [
      "Оптимальное значение K (Soft K-Means) для Евклидовой метрики: 8.0\n"
     ]
    }
   ],
   "source": [
    "optimum_k_soft_euclid = KneeLocator(\n",
    "    euclidian_soft_arr[start:, 0], \n",
    "    euclidian_soft_arr[start:, 1], \n",
    "    curve='convex', \n",
    "    direction='decreasing'\n",
    ").knee\n",
    "\n",
    "print(f\"Оптимальное значение K (Soft K-Means) для Евклидовой метрики: {optimum_k_soft_euclid}\")"
   ]
  },
  {
   "cell_type": "code",
   "execution_count": 30,
   "metadata": {},
   "outputs": [
    {
     "name": "stdout",
     "output_type": "stream",
     "text": [
      "Оптимальное значение K (Soft K-Means) для Манхэттенской метрики: 8.0\n"
     ]
    }
   ],
   "source": [
    "optimum_k_soft_manhattan = KneeLocator(\n",
    "    manhattan_soft_arr[start:,0], \n",
    "    manhattan_soft_arr[start:,1], \n",
    "    curve='convex', \n",
    "    direction='decreasing'\n",
    ").knee\n",
    "\n",
    "print(f\"Оптимальное значение K (Soft K-Means) для Манхэттенской метрики: {optimum_k_soft_manhattan}\")"
   ]
  },
  {
   "cell_type": "code",
   "execution_count": 32,
   "metadata": {},
   "outputs": [
    {
     "name": "stdout",
     "output_type": "stream",
     "text": [
      "Оптимальное значение K (Soft K-Means) для Чебышевской метрики: 7.0\n"
     ]
    }
   ],
   "source": [
    "optimum_k_soft_chebyshev = KneeLocator(\n",
    "    chebyshev_soft_arr[start:,0], \n",
    "    chebyshev_soft_arr[start:,1], \n",
    "    curve='convex',\n",
    "    direction='decreasing'\n",
    ").knee\n",
    "\n",
    "print(f\"Оптимальное значение K (Soft K-Means) для Чебышевской метрики: {optimum_k_soft_chebyshev}\")"
   ]
  },
  {
   "cell_type": "markdown",
   "metadata": {},
   "source": [
    "## Визуализация метрик (Soft K-Means)"
   ]
  },
  {
   "cell_type": "code",
   "execution_count": 34,
   "metadata": {
    "colab": {
     "base_uri": "https://localhost:8080/",
     "height": 826
    },
    "id": "yj178929eUX_",
    "outputId": "c09e9af1-61f6-4795-f246-23c9a434e333"
   },
   "outputs": [
    {
     "data": {
      "image/png": "[encoded data removed]",
      "text/plain": [
       "<Figure size 400x800 with 3 Axes>"
      ]
     },
     "metadata": {
      "needs_background": "light"
     },
     "output_type": "display_data"
    }
   ],
   "source": [
    "all_soft_metrics = np.concatenate((euclidian_soft_arr, manhattan_soft_arr, chebyshev_soft_arr), axis=1)\n",
    "all_soft_metrics = all_soft_metrics[:, (0, 1, 3, 5)]\n",
    "metric_names = [\"Евклидова метрика\",\"Манхэттенская метрика\",\"Чебышевская метрика\"]\n",
    "fig, ax = plt.subplots(3, 1, constrained_layout=True,figsize=(5, 10), dpi=80)\n",
    "\n",
    "for y in range(3):\n",
    "    ax[y].plot(all_soft_metrics[start:, 0], all_soft_metrics[start:, y + 1], color=\"red\")\n",
    "    ax[y].set_title(metric_names[y])\n",
    "    ax[y].set_xlabel(\"Значение K\")\n",
    "    ax[y].set_ylabel(\"Индекс Дэвиса-Болдина\")"
   ]
  },
  {
   "cell_type": "markdown",
   "metadata": {
    "id": "Ao5joxYteUX_"
   },
   "source": [
    "## Выводы по лабораторной работе"
   ]
  },
  {
   "cell_type": "markdown",
   "metadata": {},
   "source": [
    "1) K-Means работает по-быстрее, чем Soft K-Means\n",
    "\n",
    "2) С помощью библиотеки kneed есть возможность подбирать оптимальное значение K\n",
    "\n",
    "3) Результат K-средних сильно зависит от начальных значений центров кластера.\n",
    "\n",
    "4) Оптимальное значение K для K-Means в данной работе: [5, 7, 8], а для Soft K-Means: [8, 8, 7]"
   ]
  }
 ],
 "metadata": {
  "colab": {
   "collapsed_sections": [],
   "name": "Копия блокнота \"Lab.ipynb\"",
   "provenance": [],
   "toc_visible": true
  },
  "kernelspec": {
   "display_name": "Python 3 (ipykernel)",
   "language": "python",
   "name": "python3"
  },
  "language_info": {
   "codemirror_mode": {
    "name": "ipython",
    "version": 3
   },
   "file_extension": ".py",
   "mimetype": "text/x-python",
   "name": "python",
   "nbconvert_exporter": "python",
   "pygments_lexer": "ipython3",
   "version": "3.9.10"
  }
 },
 "nbformat": 4,
 "nbformat_minor": 1
}
